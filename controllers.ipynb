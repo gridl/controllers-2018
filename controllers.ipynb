{
 "cells": [
  {
   "cell_type": "code",
   "execution_count": 1,
   "metadata": {},
   "outputs": [],
   "source": [
    "import pandas as pd\n",
    "import numpy as np\n",
    "import matplotlib.pyplot as plt\n",
    "import matplotlib\n",
    "%matplotlib inline\n",
    "from pylab import rcParams\n",
    "rcParams['figure.figsize'] = 20, 5\n",
    "pd.set_option('display.max_columns', None)\n",
    "import math\n",
    "from scipy.integrate import odeint"
   ]
  },
  {
   "cell_type": "markdown",
   "metadata": {},
   "source": [
    "mash tun dimensions"
   ]
  },
  {
   "cell_type": "code",
   "execution_count": 2,
   "metadata": {},
   "outputs": [],
   "source": [
    "radius = 0.15\n",
    "height = 0.75"
   ]
  },
  {
   "cell_type": "code",
   "execution_count": 3,
   "metadata": {},
   "outputs": [
    {
     "data": {
      "text/plain": [
       "0.053014376029327764"
      ]
     },
     "execution_count": 3,
     "metadata": {},
     "output_type": "execute_result"
    }
   ],
   "source": [
    "volume = math.pi * math.pow(radius, 2) * height\n",
    "volume"
   ]
  },
  {
   "cell_type": "code",
   "execution_count": 4,
   "metadata": {},
   "outputs": [
    {
     "data": {
      "text/plain": [
       "0.8482300164692441"
      ]
     },
     "execution_count": 4,
     "metadata": {},
     "output_type": "execute_result"
    }
   ],
   "source": [
    "surface = 2 * math.pi * radius * height + 2 * math.pi * math.pow(radius, 2)\n",
    "surface"
   ]
  },
  {
   "cell_type": "code",
   "execution_count": 5,
   "metadata": {},
   "outputs": [],
   "source": [
    "# water specific heat https://en.wikipedia.org/wiki/Heat_capacity#Measurement\n",
    "# in J/(kg⋅K)\n",
    "Cp = 4185.5\n",
    "heat_capacity = Cp * volume * 1000\n",
    "\n",
    "# for low speed air convection, in W/(m^2*K)\n",
    "heat_transfer_coefficient = 10"
   ]
  },
  {
   "cell_type": "code",
   "execution_count": 6,
   "metadata": {},
   "outputs": [
    {
     "data": {
      "text/plain": [
       "424.11500823462205"
      ]
     },
     "execution_count": 6,
     "metadata": {},
     "output_type": "execute_result"
    }
   ],
   "source": [
    "# ambient heat loss in Watts\n",
    "heat_transfer_coefficient * surface * (75 - 25)"
   ]
  },
  {
   "cell_type": "code",
   "execution_count": 7,
   "metadata": {},
   "outputs": [
    {
     "data": {
      "text/plain": [
       "1849.0972572562614"
      ]
     },
     "execution_count": 7,
     "metadata": {},
     "output_type": "execute_result"
    }
   ],
   "source": [
    "# time to heat to target temperature (seconds)\n",
    "heat_capacity * (75 - 50) / 3000"
   ]
  },
  {
   "cell_type": "code",
   "execution_count": 8,
   "metadata": {},
   "outputs": [],
   "source": [
    "# https://en.wikipedia.org/wiki/Newton%27s_law_of_cooling\n",
    "def temperature_derivative(temperature, time, power, external_temperature, \n",
    "                  heat_capacity, heat_transfer_coefficient, surface):\n",
    "    return (power - heat_transfer_coefficient * surface * (temperature - external_temperature)) / heat_capacity"
   ]
  },
  {
   "cell_type": "code",
   "execution_count": 9,
   "metadata": {},
   "outputs": [],
   "source": [
    "time = np.arange(0, 3000, 10, dtype=np.float64)\n",
    "power = np.full_like(time, 3000)\n",
    "external_temperature = np.full_like(time, 20)\n",
    "temperature = np.full_like(time, np.nan)\n",
    "temperature[0] = 50\n",
    "setpoint = np.full_like(time, 75)"
   ]
  },
  {
   "cell_type": "code",
   "execution_count": 10,
   "metadata": {},
   "outputs": [],
   "source": [
    "for i in range(len(time) - 1):\n",
    "    temperature[i+1] = odeint(temperature_derivative, temperature[i], time[i:(i+2)], \n",
    "                              args=(power[i], external_temperature[i], heat_capacity, heat_transfer_coefficient, surface),\n",
    "                             )[-1]"
   ]
  },
  {
   "cell_type": "code",
   "execution_count": 11,
   "metadata": {},
   "outputs": [
    {
     "data": {
      "image/png": "[encoded data removed]",
      "text/plain": [
       "<Figure size 1440x360 with 2 Axes>"
      ]
     },
     "metadata": {},
     "output_type": "display_data"
    }
   ],
   "source": [
    "pd.DataFrame(index=time, data={'temperature':  temperature,\n",
    "                               'external_temperature': external_temperature,\n",
    "                               'setpoint': setpoint,\n",
    "                               'power': power\n",
    "                              }).plot(secondary_y=('power'));"
   ]
  },
  {
   "cell_type": "code",
   "execution_count": null,
   "metadata": {},
   "outputs": [],
   "source": []
  }
 ],
 "metadata": {
  "kernelspec": {
   "display_name": "Python 3",
   "language": "python",
   "name": "python3"
  },
  "language_info": {
   "codemirror_mode": {
    "name": "ipython",
    "version": 3
   },
   "file_extension": ".py",
   "mimetype": "text/x-python",
   "name": "python",
   "nbconvert_exporter": "python",
   "pygments_lexer": "ipython3",
   "version": "3.6.5"
  }
 },
 "nbformat": 4,
 "nbformat_minor": 2
}
